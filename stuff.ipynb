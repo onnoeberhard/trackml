{
 "cells": [
  {
   "cell_type": "code",
   "execution_count": null,
   "metadata": {},
   "outputs": [],
   "source": [
    "#find lmax\n",
    "lmax = 0\n",
    "for i, (_, hits) in enumerate(truth[truth.particle_id != 0].groupby(\"particle_id\")):\n",
    "    dist = list()\n",
    "    dist[:] = np.sqrt(hits.tx.diff()**2 + hits.ty.diff()**2 + hits.tz.diff()**2)\n",
    "    dist[0] = np.sqrt(hits.tx.iloc[0]**2 + hits.ty.iloc[0]**2 + hits.tz.iloc[0]**2)\n",
    "    lmax = max(dist) if max(dist) > lmax else lmax\n",
    "\n",
    "# lmax = 3667.38330078125 -> approx. 4000"
   ]
  }
 ],
 "metadata": {
  "kernelspec": {
   "display_name": "Python 3",
   "language": "python",
   "name": "python3"
  },
  "language_info": {
   "codemirror_mode": {
    "name": "ipython",
    "version": 3
   },
   "file_extension": ".py",
   "mimetype": "text/x-python",
   "name": "python",
   "nbconvert_exporter": "python",
   "pygments_lexer": "ipython3",
   "version": "3.6.6"
  }
 },
 "nbformat": 4,
 "nbformat_minor": 2
}
